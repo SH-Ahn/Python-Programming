{
 "cells": [
  {
   "cell_type": "code",
   "execution_count": null,
   "metadata": {},
   "outputs": [],
   "source": [
    "print('Hello Python')"
   ]
  },
  {
   "cell_type": "code",
   "execution_count": 1,
   "metadata": {},
   "outputs": [],
   "source": [
    "\n",
    "empty ={}\n",
    "seoul = {'north' : 'Bukhansan', 'south' : 'Gwanaksan'}\n",
    "seoul_mountains = dict(north = 'Bukhansan' , center = 'Namsan', sounth = 'Gwanaksan')"
   ]
  },
  {
   "cell_type": "code",
   "execution_count": null,
   "metadata": {},
   "outputs": [],
   "source": []
  }
 ],
 "metadata": {
  "kernelspec": {
   "display_name": "Python 3",
   "language": "python",
   "name": "python3"
  },
  "language_info": {
   "codemirror_mode": {
    "name": "ipython",
    "version": 3
   },
   "file_extension": ".py",
   "mimetype": "text/x-python",
   "name": "python",
   "nbconvert_exporter": "python",
   "pygments_lexer": "ipython3",
   "version": "3.9.10"
  },
  "orig_nbformat": 4,
  "vscode": {
   "interpreter": {
    "hash": "0378fd4aef20ad38af214fb1d27a35470d7e7a0b9aaf2e1a6c30a3c5a0ffcb66"
   }
  }
 },
 "nbformat": 4,
 "nbformat_minor": 2
}
